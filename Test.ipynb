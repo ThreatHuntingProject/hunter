{
 "cells": [
  {
   "cell_type": "markdown",
   "metadata": {},
   "source": [
    "# Simple Test Suite for Hunting Platform\n",
    "\n",
    "This notebook is just a simple test suite for some _very_ basic functions of the hunting platform.  \n",
    "\n",
    "Run it once for each Python kernel (_Kernel -> Change kernel_).  If there are no errors, everything is probably installed correctly."
   ]
  },
  {
   "cell_type": "markdown",
   "metadata": {},
   "source": [
    "## Check Python Modules and Version\n",
    "For the modules we install, just do a very basic import to make sure they are installed.  Also check the exactly Python version we're using. "
   ]
  },
  {
   "cell_type": "code",
   "execution_count": 0,
   "metadata": {},
   "outputs": [],
   "source": [
    "from __future__ import print_function",
    "\n",
    "import plotly as py\n",
    "import plotly.offline as pyo\n",
    "import elasticsearch\n",
    "import seaborn\n",
    "import sklearn\n",
    "import ipywidgets\n",
    "import cufflinks as cf\n",
    "import pandas as pd\n",
    "import numpy as np\n",
    "\n",
    "import sys\n"
   ]
  },
  {
   "cell_type": "code",
   "execution_count": 0,
   "metadata": {},
   "outputs": [],
   "source": [
    "print(sys.version)"
   ]
  },
  {
   "cell_type": "markdown",
   "metadata": {},
   "source": [
    "## List of Python 3 Modules"
   ]
  },
  {
   "cell_type": "code",
   "execution_count": 0,
   "metadata": {
    "scrolled": false
   },
   "outputs": [],
   "source": [
    "!conda list"
   ]
  },
  {
   "cell_type": "markdown",
   "metadata": {},
   "source": [
    "## List of Python 2 Modules"
   ]
  },
  {
   "cell_type": "code",
   "execution_count": 0,
   "metadata": {
    "scrolled": false
   },
   "outputs": [],
   "source": [
    "!conda list --name python2"
   ]
  },
  {
   "cell_type": "code",
   "execution_count": 0,
   "metadata": {},
   "outputs": [],
   "source": [
    "df = pd.DataFrame([[1,2,3],[4,5,6]], columns=[\"col1\",\"col2\",\"col3\"])\n",
    "df[\"result\"] = df.apply(lambda row: row[\"col1\"] + row[\"col2\"] + row[\"col3\"], axis=1)\n",
    "display(df)\n",
    "\n",
    "result_df = pd.DataFrame([[1,2,3,6],[4,5,6,15]], columns=[\"col1\",\"col2\",\"col3\",\"result\"])\n",
    "display(result_df)\n",
    "\n",
    "pd.testing.assert_frame_equal(df, result_df)"
   ]
  },
  {
   "cell_type": "code",
   "execution_count": 0,
   "metadata": {
    "scrolled": false
   },
   "outputs": [],
   "source": [
    "cf.go_offline()\n",
    "\n",
    "df.iplot(kind='scatter', bgcolor='dimgray')"
   ]
  }
 ],
 "metadata": {
  "kernelspec": {
   "display_name": "Python 3",
   "language": "python",
   "name": "python3"
  },
  "language_info": {
   "codemirror_mode": {
    "name": "ipython",
    "version": 3
   },
   "file_extension": ".py",
   "mimetype": "text/x-python",
   "name": "python",
   "nbconvert_exporter": "python",
   "pygments_lexer": "ipython3",
   "version": "3.6.3"
  },
  "toc": {
   "base_numbering": 1,
   "nav_menu": {},
   "number_sections": true,
   "sideBar": true,
   "skip_h1_title": false,
   "title_cell": "Table of Contents",
   "title_sidebar": "Contents",
   "toc_cell": false,
   "toc_position": {},
   "toc_section_display": true,
   "toc_window_display": false
  }
 },
 "nbformat": 4,
 "nbformat_minor": 2
}
