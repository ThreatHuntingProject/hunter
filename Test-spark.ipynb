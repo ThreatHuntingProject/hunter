{
 "cells": [
  {
   "cell_type": "markdown",
   "metadata": {},
   "source": [
    "# Simple Test Suite for Hunting Platform - Spark Version\n",
    "\n",
    "This notebook is just a simple test to make sure that basic Apache Spark functions are working.  It tries to estimate the value of pi, but it's just an estimate so don't worry if the value is off.  The important thing is that Spark completes the job and gives an answer without error.  \n",
    "\n",
    "**Spark is only installed for the Python3 kernel, so if you try to execute this with Python2, it will fail.**  If there are no errors, everything is probably installed correctly."
   ]
  },
  {
   "cell_type": "markdown",
   "metadata": {},
   "source": [
    "## Check Python Modules\n",
    "For the modules we install, just do a very basic import to make sure they are installed. "
   ]
  },
  {
   "cell_type": "code",
   "execution_count": 0,
   "metadata": {},
   "outputs": [],
   "source": [
    "import pyspark\n",
    "import random "
   ]
  },
  {
   "cell_type": "markdown",
   "metadata": {},
   "source": [
    "## A basic SparkContext()"
   ]
  },
  {
   "cell_type": "code",
   "execution_count": 0,
   "metadata": {},
   "outputs": [],
   "source": [
    "spark_config = (pyspark.SparkConf().setAppName('test').setMaster(\"local[2]\"))\n",
    "sc = pyspark.SparkContext(conf=spark_config)"
   ]
  },
  {
   "cell_type": "markdown",
   "metadata": {},
   "source": [
    "## Compute Pi\n",
    "This is based on the Apache sample code at https://spark.apache.org/examples.html. I've slightly modified it to work with Python 3, but it's basically identical to their version."
   ]
  },
  {
   "cell_type": "code",
   "execution_count": 0,
   "metadata": {},
   "outputs": [],
   "source": [
    "NUM_SAMPLES=10000000"
   ]
  },
  {
   "cell_type": "code",
   "execution_count": 0,
   "metadata": {},
   "outputs": [],
   "source": [
    "def inside(p):\n",
    "    x, y = random.random(), random.random()\n",
    "    return x*x + y*y < 1\n",
    "\n",
    "count = sc.parallelize(range(0, NUM_SAMPLES)) \\\n",
    "             .filter(inside).count()\n",
    "print(\"Pi is roughly %f\" % (4.0 * count / NUM_SAMPLES))"
   ]
  }
 ],
 "metadata": {
  "kernelspec": {
   "display_name": "Python 3",
   "language": "python",
   "name": "python3"
  },
  "language_info": {
   "codemirror_mode": {
    "name": "ipython",
    "version": 3
   },
   "file_extension": ".py",
   "mimetype": "text/x-python",
   "name": "python",
   "nbconvert_exporter": "python",
   "pygments_lexer": "ipython3",
   "version": "3.7.3"
  }
 },
 "nbformat": 4,
 "nbformat_minor": 2
}